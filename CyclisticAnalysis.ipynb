{
    "metadata": {
        "kernelspec": {
            "name": "SQL",
            "display_name": "SQL",
            "language": "sql"
        },
        "language_info": {
            "name": "sql",
            "version": ""
        }
    },
    "nbformat_minor": 2,
    "nbformat": 4,
    "cells": [
        {
            "cell_type": "markdown",
            "source": [
                "# Analysis: How do annual members and casual riders use Cyclistic bikes differently?\n",
                "\n",
                "As the main goal is to determine a trend for each member type we will focus on opposite them all along this exploratory data analysis."
            ],
            "metadata": {
                "language": "sql",
                "azdata_cell_guid": "5054a665-a98f-4ade-b9c5-86a7a3285869"
            },
            "attachments": {}
        },
        {
            "cell_type": "markdown",
            "source": [
                "## Proportion\n",
                "\n",
                "First, let us see the proportion of annual members & casual riders over these past 12 months."
            ],
            "metadata": {
                "language": "sql",
                "azdata_cell_guid": "ac93ad41-1da0-4e11-a797-e7f3ffc79113"
            },
            "attachments": {}
        },
        {
            "cell_type": "code",
            "source": [
                "SELECT\r\n",
                "    member_casual,\r\n",
                "    CAST(\r\n",
                "        CAST (COUNT (*) AS FLOAT)* 100 / \r\n",
                "            (\r\n",
                "            SELECT CAST (COUNT (*) AS FLOAT) \r\n",
                "            FROM [Cyclistic].[dbo].[twelve_months_trip]\r\n",
                "            )\r\n",
                "            AS DECIMAL(5,2) \r\n",
                "        ) AS proportion\r\n",
                "FROM [Cyclistic].[dbo].[twelve_months_trip]\r\n",
                "GROUP BY member_casual"
            ],
            "metadata": {
                "azdata_cell_guid": "090ec935-4dfb-4c08-b0c8-ed1e4aac1ddd",
                "language": "sql"
            },
            "outputs": [
                {
                    "output_type": "display_data",
                    "data": {
                        "text/html": "(2 rows affected)"
                    },
                    "metadata": {}
                },
                {
                    "output_type": "display_data",
                    "data": {
                        "text/html": "Total execution time: 00:00:04.516"
                    },
                    "metadata": {}
                },
                {
                    "output_type": "execute_result",
                    "execution_count": 1,
                    "data": {
                        "application/vnd.dataresource+json": {
                            "schema": {
                                "fields": [
                                    {
                                        "name": "member_casual"
                                    },
                                    {
                                        "name": "proportion"
                                    }
                                ]
                            },
                            "data": [
                                {
                                    "0": "member",
                                    "1": "58.75"
                                },
                                {
                                    "0": "casual",
                                    "1": "41.25"
                                }
                            ]
                        },
                        "text/html": "<table><tr><th>member_casual</th><th>proportion</th></tr><tr><td>member</td><td>58.75</td></tr><tr><td>casual</td><td>41.25</td></tr></table>"
                    },
                    "metadata": {}
                }
            ],
            "execution_count": 1
        },
        {
            "cell_type": "markdown",
            "source": [
                "As we can see, there are 41,25% of casual members. It explains why Cyclistic company is interested in designing a new marketing strategy to convert casual riders into annual members."
            ],
            "metadata": {
                "azdata_cell_guid": "ee2e0a73-679f-470d-b29e-c66d2acd3759"
            },
            "attachments": {}
        },
        {
            "cell_type": "markdown",
            "source": [
                "## Average trip duration\n",
                "\n",
                "### Hebdomadary average trip duration for each member."
            ],
            "metadata": {
                "language": "sql",
                "azdata_cell_guid": "76fdb985-5858-4b8a-8011-3046649a6971"
            },
            "attachments": {}
        },
        {
            "cell_type": "code",
            "source": [
                "SELECT\r\n",
                "    member_casual,\r\n",
                "    AVG ((DATEDIFF(minute, [started_at], [ended_at]))) AS average_trip_duration_in_minutes\r\n",
                "FROM [Cyclistic].[dbo].[twelve_months_trip]\r\n",
                "GROUP BY member_casual"
            ],
            "metadata": {
                "azdata_cell_guid": "63d3b64f-0065-413f-9919-366ad648dfa7",
                "language": "sql"
            },
            "outputs": [
                {
                    "output_type": "display_data",
                    "data": {
                        "text/html": "(2 rows affected)"
                    },
                    "metadata": {}
                },
                {
                    "output_type": "display_data",
                    "data": {
                        "text/html": "Total execution time: 00:00:03.914"
                    },
                    "metadata": {}
                },
                {
                    "output_type": "execute_result",
                    "execution_count": 2,
                    "data": {
                        "application/vnd.dataresource+json": {
                            "schema": {
                                "fields": [
                                    {
                                        "name": "member_casual"
                                    },
                                    {
                                        "name": "average_trip_duration_in_minutes"
                                    }
                                ]
                            },
                            "data": [
                                {
                                    "0": "member",
                                    "1": "12"
                                },
                                {
                                    "0": "casual",
                                    "1": "25"
                                }
                            ]
                        },
                        "text/html": "<table><tr><th>member_casual</th><th>average_trip_duration_in_minutes</th></tr><tr><td>member</td><td>12</td></tr><tr><td>casual</td><td>25</td></tr></table>"
                    },
                    "metadata": {}
                }
            ],
            "execution_count": 2
        },
        {
            "cell_type": "markdown",
            "source": [
                "First insight, we can see that the casual riders use the bikes twice longer than the annual members. Now let us go see the average trip duration for each weekday."
            ],
            "metadata": {
                "azdata_cell_guid": "7434e93a-f29d-493c-a88f-d95c9ef3b778"
            },
            "attachments": {}
        },
        {
            "cell_type": "markdown",
            "source": [
                "### Daily average trip duration"
            ],
            "metadata": {
                "azdata_cell_guid": "256aef6a-3534-404e-8da0-1f92109991d5"
            },
            "attachments": {}
        },
        {
            "cell_type": "code",
            "source": [
                "SELECT\r\n",
                "    DATENAME(weekday, started_at) AS day_of_week,\r\n",
                "    AVG ((DATEDIFF(minute, [started_at], [ended_at]))) AS average_trip_duration_in_minutes\r\n",
                "FROM [Cyclistic].[dbo].[twelve_months_trip]\r\n",
                "GROUP BY DATENAME(weekday, started_at)\r\n",
                "ORDER BY\r\n",
                "    CASE DATENAME(weekday, started_at)\r\n",
                "        WHEN 'lundi' THEN 1\r\n",
                "        WHEN 'mardi' THEN 2\r\n",
                "        WHEN 'mercredi' THEN 3\r\n",
                "        WHEN 'jeudi' THEN 4\r\n",
                "        WHEN 'vendredi' THEN 5\r\n",
                "        WHEN 'samedi' THEN 6\r\n",
                "        WHEN 'dimanche' THEN 7\r\n",
                "    END"
            ],
            "metadata": {
                "azdata_cell_guid": "7b80badd-c94a-4308-8d19-1b966fd2eba0",
                "language": "sql"
            },
            "outputs": [
                {
                    "output_type": "display_data",
                    "data": {
                        "text/html": "(7 rows affected)"
                    },
                    "metadata": {}
                },
                {
                    "output_type": "display_data",
                    "data": {
                        "text/html": "Total execution time: 00:00:04.612"
                    },
                    "metadata": {}
                },
                {
                    "output_type": "execute_result",
                    "execution_count": 10,
                    "data": {
                        "application/vnd.dataresource+json": {
                            "schema": {
                                "fields": [
                                    {
                                        "name": "day_of_week"
                                    },
                                    {
                                        "name": "average_trip_duration_in_minutes"
                                    }
                                ]
                            },
                            "data": [
                                {
                                    "0": "lundi",
                                    "1": "17"
                                },
                                {
                                    "0": "mardi",
                                    "1": "15"
                                },
                                {
                                    "0": "mercredi",
                                    "1": "15"
                                },
                                {
                                    "0": "jeudi",
                                    "1": "16"
                                },
                                {
                                    "0": "vendredi",
                                    "1": "17"
                                },
                                {
                                    "0": "samedi",
                                    "1": "21"
                                },
                                {
                                    "0": "dimanche",
                                    "1": "22"
                                }
                            ]
                        },
                        "text/html": "<table><tr><th>day_of_week</th><th>average_trip_duration_in_minutes</th></tr><tr><td>lundi</td><td>17</td></tr><tr><td>mardi</td><td>15</td></tr><tr><td>mercredi</td><td>15</td></tr><tr><td>jeudi</td><td>16</td></tr><tr><td>vendredi</td><td>17</td></tr><tr><td>samedi</td><td>21</td></tr><tr><td>dimanche</td><td>22</td></tr></table>"
                    },
                    "metadata": {}
                }
            ],
            "execution_count": 10
        },
        {
            "cell_type": "markdown",
            "source": [
                "Here we can see that the bike-share service is more used during the weekend. Next, let us see which type of user uses the bikes the longest each day."
            ],
            "metadata": {
                "azdata_cell_guid": "16bd187a-51fc-4c32-801e-4803e7fc5596"
            },
            "attachments": {}
        },
        {
            "cell_type": "markdown",
            "source": [
                "## Member type with the longest average trip duration (each day of the week)\n",
                "\n",
                "### Member vs Casual"
            ],
            "metadata": {
                "azdata_cell_guid": "a8d48333-31cd-4a53-bfd3-b0a483f031d1"
            },
            "attachments": {}
        },
        {
            "cell_type": "code",
            "source": [
                "WITH daily_member_average_trip_duration AS \r\n",
                "(\r\n",
                "    SELECT\r\n",
                "        DATENAME(weekday, started_at) AS day_of_week,\r\n",
                "        AVG ((DATEDIFF(minute, [started_at], [ended_at]))) AS member_daily_average_trip_duration_in_minutes\r\n",
                "    FROM [Cyclistic].[dbo].[twelve_months_trip]\r\n",
                "    WHERE member_casual = 'member'\r\n",
                "    GROUP BY \r\n",
                "        DATENAME(weekday, started_at)\r\n",
                ")\r\n",
                "SELECT\r\n",
                "    daily_casual_average_trip_duration.*,\r\n",
                "    daily_member_average_trip_duration.member_daily_average_trip_duration_in_minutes\r\n",
                "FROM\r\n",
                "(\r\n",
                "    SELECT\r\n",
                "        DATENAME(weekday, started_at) AS day_of_week,\r\n",
                "        AVG ((DATEDIFF(minute, [started_at], [ended_at]))) AS casual_daily_average_trip_duration_in_minutes\r\n",
                "    FROM [Cyclistic].[dbo].[twelve_months_trip]\r\n",
                "    WHERE member_casual = 'casual'\r\n",
                "    GROUP BY \r\n",
                "        DATENAME(weekday, started_at)\r\n",
                ") AS daily_casual_average_trip_duration\r\n",
                "FULL OUTER JOIN daily_member_average_trip_duration\r\n",
                "ON daily_casual_average_trip_duration.day_of_week = daily_member_average_trip_duration.day_of_week\r\n",
                "ORDER BY\r\n",
                "    CASE daily_casual_average_trip_duration.day_of_week\r\n",
                "        WHEN 'lundi' THEN 1\r\n",
                "        WHEN 'mardi' THEN 2\r\n",
                "        WHEN 'mercredi' THEN 3\r\n",
                "        WHEN 'jeudi' THEN 4\r\n",
                "        WHEN 'vendredi' THEN 5\r\n",
                "        WHEN 'samedi' THEN 6\r\n",
                "        WHEN 'dimanche' THEN 7\r\n",
                "    END"
            ],
            "metadata": {
                "language": "sql",
                "azdata_cell_guid": "d2dc2ce2-cdb2-4f84-ad84-65ee73691f36",
                "tags": []
            },
            "outputs": [
                {
                    "output_type": "display_data",
                    "data": {
                        "text/html": "(7 rows affected)"
                    },
                    "metadata": {}
                },
                {
                    "output_type": "display_data",
                    "data": {
                        "text/html": "Total execution time: 00:00:06.652"
                    },
                    "metadata": {}
                },
                {
                    "output_type": "execute_result",
                    "execution_count": 27,
                    "data": {
                        "application/vnd.dataresource+json": {
                            "schema": {
                                "fields": [
                                    {
                                        "name": "day_of_week"
                                    },
                                    {
                                        "name": "casual_daily_average_trip_duration_in_minutes"
                                    },
                                    {
                                        "name": "member_daily_average_trip_duration_in_minutes"
                                    }
                                ]
                            },
                            "data": [
                                {
                                    "0": "lundi",
                                    "1": "26",
                                    "2": "12"
                                },
                                {
                                    "0": "mardi",
                                    "1": "22",
                                    "2": "11"
                                },
                                {
                                    "0": "mercredi",
                                    "1": "22",
                                    "2": "12"
                                },
                                {
                                    "0": "jeudi",
                                    "1": "22",
                                    "2": "12"
                                },
                                {
                                    "0": "vendredi",
                                    "1": "24",
                                    "2": "12"
                                },
                                {
                                    "0": "samedi",
                                    "1": "28",
                                    "2": "14"
                                },
                                {
                                    "0": "dimanche",
                                    "1": "29",
                                    "2": "14"
                                }
                            ]
                        },
                        "text/html": "<table><tr><th>day_of_week</th><th>casual_daily_average_trip_duration_in_minutes</th><th>member_daily_average_trip_duration_in_minutes</th></tr><tr><td>lundi</td><td>26</td><td>12</td></tr><tr><td>mardi</td><td>22</td><td>11</td></tr><tr><td>mercredi</td><td>22</td><td>12</td></tr><tr><td>jeudi</td><td>22</td><td>12</td></tr><tr><td>vendredi</td><td>24</td><td>12</td></tr><tr><td>samedi</td><td>28</td><td>14</td></tr><tr><td>dimanche</td><td>29</td><td>14</td></tr></table>"
                    },
                    "metadata": {}
                }
            ],
            "execution_count": 27
        },
        {
            "cell_type": "markdown",
            "source": [
                "Obvious results here, as the average trip duration is higher for casual riders than for annual members. Let us sum it up in another table."
            ],
            "metadata": {
                "azdata_cell_guid": "4a0197da-6e71-43aa-bf7d-5f6e8c4eb5be"
            },
            "attachments": {}
        },
        {
            "cell_type": "markdown",
            "source": [
                "### Rider with the highest daily average trip duration"
            ],
            "metadata": {
                "azdata_cell_guid": "dee3579b-353a-472d-bddf-9fa5c9774b5b"
            },
            "attachments": {}
        },
        {
            "cell_type": "code",
            "source": [
                "WITH trip_duration_per_day_per_membertype AS \r\n",
                "(\r\n",
                "        SELECT\r\n",
                "            DATENAME(weekday, started_at) AS day_of_week,\r\n",
                "            member_casual,\r\n",
                "            AVG ((DATEDIFF(minute, [started_at], [ended_at]))) AS average_trip_duration_in_minutes\r\n",
                "        FROM [Cyclistic].[dbo].[twelve_months_trip]\r\n",
                "        GROUP BY\r\n",
                "            DATENAME(weekday, started_at),\r\n",
                "            member_casual\r\n",
                "),\r\n",
                "trip_duration_per_days_per_membertype_ranked AS\r\n",
                "(\r\n",
                "SELECT\r\n",
                "    ROW_NUMBER() OVER (PARTITION BY day_of_week ORDER BY average_trip_duration_in_minutes DESC) AS trip_duration_ranked,\r\n",
                "    *\r\n",
                "    FROM\r\n",
                "        trip_duration_per_day_per_membertype\r\n",
                ")\r\n",
                "SELECT\r\n",
                "    day_of_week,\r\n",
                "    member_casual\r\n",
                "FROM\r\n",
                "    trip_duration_per_days_per_membertype_ranked\r\n",
                "WHERE\r\n",
                "    trip_duration_ranked = 1\r\n",
                "ORDER BY\r\n",
                "    CASE day_of_week\r\n",
                "        WHEN 'lundi' THEN 1\r\n",
                "        WHEN 'mardi' THEN 2\r\n",
                "        WHEN 'mercredi' THEN 3\r\n",
                "        WHEN 'jeudi' THEN 4\r\n",
                "        WHEN 'vendredi' THEN 5\r\n",
                "        WHEN 'samedi' THEN 6\r\n",
                "        WHEN 'dimanche' THEN 7\r\n",
                "    END"
            ],
            "metadata": {
                "azdata_cell_guid": "5b45b0aa-297c-41c2-a746-ff0703a845e0",
                "language": "sql"
            },
            "outputs": [
                {
                    "output_type": "display_data",
                    "data": {
                        "text/html": "(7 rows affected)"
                    },
                    "metadata": {}
                },
                {
                    "output_type": "display_data",
                    "data": {
                        "text/html": "Total execution time: 00:00:05.800"
                    },
                    "metadata": {}
                },
                {
                    "output_type": "execute_result",
                    "execution_count": 28,
                    "data": {
                        "application/vnd.dataresource+json": {
                            "schema": {
                                "fields": [
                                    {
                                        "name": "day_of_week"
                                    },
                                    {
                                        "name": "member_casual"
                                    }
                                ]
                            },
                            "data": [
                                {
                                    "0": "lundi",
                                    "1": "casual"
                                },
                                {
                                    "0": "mardi",
                                    "1": "casual"
                                },
                                {
                                    "0": "mercredi",
                                    "1": "casual"
                                },
                                {
                                    "0": "jeudi",
                                    "1": "casual"
                                },
                                {
                                    "0": "vendredi",
                                    "1": "casual"
                                },
                                {
                                    "0": "samedi",
                                    "1": "casual"
                                },
                                {
                                    "0": "dimanche",
                                    "1": "casual"
                                }
                            ]
                        },
                        "text/html": "<table><tr><th>day_of_week</th><th>member_casual</th></tr><tr><td>lundi</td><td>casual</td></tr><tr><td>mardi</td><td>casual</td></tr><tr><td>mercredi</td><td>casual</td></tr><tr><td>jeudi</td><td>casual</td></tr><tr><td>vendredi</td><td>casual</td></tr><tr><td>samedi</td><td>casual</td></tr><tr><td>dimanche</td><td>casual</td></tr></table>"
                    },
                    "metadata": {}
                }
            ],
            "execution_count": 28
        },
        {
            "cell_type": "markdown",
            "source": [
                "We studied the average trip duration in different ways, now let us see the difference between casual riders and annual members through the daily number of uses."
            ],
            "metadata": {
                "azdata_cell_guid": "60dba96a-5316-4326-91d0-80187fa60197"
            },
            "attachments": {}
        },
        {
            "cell_type": "markdown",
            "source": [
                "## Which user uses more the bike-share service daily?\n",
                "\n",
                "### First, let us see it through numbers"
            ],
            "metadata": {
                "language": "sql",
                "azdata_cell_guid": "109d9470-62d8-4a7a-bfcb-0822595e8079"
            },
            "attachments": {}
        },
        {
            "cell_type": "code",
            "source": [
                "WITH number_of_member_rides AS \r\n",
                "(\r\n",
                "    SELECT\r\n",
                "        DATENAME(weekday, started_at) AS day_of_week,\r\n",
                "        COUNT(*) AS member_rides\r\n",
                "    FROM [Cyclistic].[dbo].[twelve_months_trip]\r\n",
                "    WHERE member_casual = 'member'\r\n",
                "    GROUP BY \r\n",
                "        DATENAME(weekday, started_at)\r\n",
                ")\r\n",
                "SELECT\r\n",
                "    number_of_casual_rides.*,\r\n",
                "    number_of_member_rides.member_rides\r\n",
                "FROM\r\n",
                "(\r\n",
                "    SELECT\r\n",
                "        DATENAME(weekday, started_at) AS day_of_week,\r\n",
                "        COUNT(*) AS casual_rides\r\n",
                "    FROM [Cyclistic].[dbo].[twelve_months_trip]\r\n",
                "    WHERE member_casual = 'casual'\r\n",
                "    GROUP BY \r\n",
                "        DATENAME(weekday, started_at)\r\n",
                ") AS number_of_casual_rides\r\n",
                "FULL OUTER JOIN number_of_member_rides\r\n",
                "ON number_of_casual_rides.day_of_week = number_of_member_rides.day_of_week\r\n",
                "ORDER BY\r\n",
                "    CASE number_of_casual_rides.day_of_week\r\n",
                "        WHEN 'lundi' THEN 1\r\n",
                "        WHEN 'mardi' THEN 2\r\n",
                "        WHEN 'mercredi' THEN 3\r\n",
                "        WHEN 'jeudi' THEN 4\r\n",
                "        WHEN 'vendredi' THEN 5\r\n",
                "        WHEN 'samedi' THEN 6\r\n",
                "        WHEN 'dimanche' THEN 7\r\n",
                "    END"
            ],
            "metadata": {
                "azdata_cell_guid": "d992c414-0134-4166-9070-5c4d9bfbbe1f",
                "language": "sql"
            },
            "outputs": [
                {
                    "output_type": "display_data",
                    "data": {
                        "text/html": "(7 rows affected)"
                    },
                    "metadata": {}
                },
                {
                    "output_type": "display_data",
                    "data": {
                        "text/html": "Total execution time: 00:00:05.520"
                    },
                    "metadata": {}
                },
                {
                    "output_type": "execute_result",
                    "execution_count": 32,
                    "data": {
                        "application/vnd.dataresource+json": {
                            "schema": {
                                "fields": [
                                    {
                                        "name": "day_of_week"
                                    },
                                    {
                                        "name": "casual_rides"
                                    },
                                    {
                                        "name": "member_rides"
                                    }
                                ]
                            },
                            "data": [
                                {
                                    "0": "lundi",
                                    "1": "219400",
                                    "2": "372804"
                                },
                                {
                                    "0": "mardi",
                                    "1": "203922",
                                    "2": "422648"
                                },
                                {
                                    "0": "mercredi",
                                    "1": "215291",
                                    "2": "430355"
                                },
                                {
                                    "0": "jeudi",
                                    "1": "229294",
                                    "2": "408883"
                                },
                                {
                                    "0": "vendredi",
                                    "1": "256138",
                                    "2": "361909"
                                },
                                {
                                    "0": "samedi",
                                    "1": "398425",
                                    "2": "347538"
                                },
                                {
                                    "0": "dimanche",
                                    "1": "341402",
                                    "2": "310301"
                                }
                            ]
                        },
                        "text/html": "<table><tr><th>day_of_week</th><th>casual_rides</th><th>member_rides</th></tr><tr><td>lundi</td><td>219400</td><td>372804</td></tr><tr><td>mardi</td><td>203922</td><td>422648</td></tr><tr><td>mercredi</td><td>215291</td><td>430355</td></tr><tr><td>jeudi</td><td>229294</td><td>408883</td></tr><tr><td>vendredi</td><td>256138</td><td>361909</td></tr><tr><td>samedi</td><td>398425</td><td>347538</td></tr><tr><td>dimanche</td><td>341402</td><td>310301</td></tr></table>"
                    },
                    "metadata": {}
                }
            ],
            "execution_count": 32
        },
        {
            "cell_type": "markdown",
            "source": [
                "As we can see, during weekdays, annual members ride more than casual riders. But during the weekend, casual riders use the bike-share service more. Now let us see those results in a summary table.\n",
                "\n",
                "### Casual vs Member: Aggregated"
            ],
            "metadata": {
                "azdata_cell_guid": "9e1a793d-1095-43bf-94b0-f5f285240138"
            },
            "attachments": {}
        },
        {
            "cell_type": "code",
            "source": [
                "WITH rides_per_day_per_membertype AS \r\n",
                "(\r\n",
                "        SELECT\r\n",
                "            DATENAME(weekday, started_at) AS day_of_week,\r\n",
                "            member_casual,\r\n",
                "            COUNT(*) AS rides\r\n",
                "        FROM [Cyclistic].[dbo].[twelve_months_trip]\r\n",
                "        GROUP BY\r\n",
                "            DATENAME(weekday, started_at),\r\n",
                "            member_casual\r\n",
                "),\r\n",
                "ride_per_days_per_membertype_ranked AS\r\n",
                "(\r\n",
                "SELECT\r\n",
                "    ROW_NUMBER() OVER (PARTITION BY day_of_week ORDER BY rides DESC) AS rides_ranked,\r\n",
                "    *\r\n",
                "    FROM\r\n",
                "        rides_per_day_per_membertype\r\n",
                ")\r\n",
                "SELECT\r\n",
                "    day_of_week,\r\n",
                "    member_casual,\r\n",
                "    rides\r\n",
                "FROM\r\n",
                "    ride_per_days_per_membertype_ranked\r\n",
                "WHERE\r\n",
                "    rides_ranked = 1\r\n",
                "ORDER BY\r\n",
                "    CASE day_of_week\r\n",
                "        WHEN 'lundi' THEN 1\r\n",
                "        WHEN 'mardi' THEN 2\r\n",
                "        WHEN 'mercredi' THEN 3\r\n",
                "        WHEN 'jeudi' THEN 4\r\n",
                "        WHEN 'vendredi' THEN 5\r\n",
                "        WHEN 'samedi' THEN 6\r\n",
                "        WHEN 'dimanche' THEN 7\r\n",
                "    END"
            ],
            "metadata": {
                "azdata_cell_guid": "69cc19b5-2a45-45ed-a280-fd3608ef85c3",
                "language": "sql"
            },
            "outputs": [
                {
                    "output_type": "display_data",
                    "data": {
                        "text/html": "(7 rows affected)"
                    },
                    "metadata": {}
                },
                {
                    "output_type": "display_data",
                    "data": {
                        "text/html": "Total execution time: 00:00:04.674"
                    },
                    "metadata": {}
                },
                {
                    "output_type": "execute_result",
                    "execution_count": 33,
                    "data": {
                        "application/vnd.dataresource+json": {
                            "schema": {
                                "fields": [
                                    {
                                        "name": "day_of_week"
                                    },
                                    {
                                        "name": "member_casual"
                                    },
                                    {
                                        "name": "rides"
                                    }
                                ]
                            },
                            "data": [
                                {
                                    "0": "lundi",
                                    "1": "member",
                                    "2": "372804"
                                },
                                {
                                    "0": "mardi",
                                    "1": "member",
                                    "2": "422648"
                                },
                                {
                                    "0": "mercredi",
                                    "1": "member",
                                    "2": "430355"
                                },
                                {
                                    "0": "jeudi",
                                    "1": "member",
                                    "2": "408883"
                                },
                                {
                                    "0": "vendredi",
                                    "1": "member",
                                    "2": "361909"
                                },
                                {
                                    "0": "samedi",
                                    "1": "casual",
                                    "2": "398425"
                                },
                                {
                                    "0": "dimanche",
                                    "1": "casual",
                                    "2": "341402"
                                }
                            ]
                        },
                        "text/html": "<table><tr><th>day_of_week</th><th>member_casual</th><th>rides</th></tr><tr><td>lundi</td><td>member</td><td>372804</td></tr><tr><td>mardi</td><td>member</td><td>422648</td></tr><tr><td>mercredi</td><td>member</td><td>430355</td></tr><tr><td>jeudi</td><td>member</td><td>408883</td></tr><tr><td>vendredi</td><td>member</td><td>361909</td></tr><tr><td>samedi</td><td>casual</td><td>398425</td></tr><tr><td>dimanche</td><td>casual</td><td>341402</td></tr></table>"
                    },
                    "metadata": {}
                }
            ],
            "execution_count": 33
        },
        {
            "cell_type": "markdown",
            "source": [
                "We have seen that casual riders tend to use more the bike-share service during the weekend than the annual members. Now let us see what type of bikes each member type prefers. The following bikes are available:\n",
                "\n",
                "\\- Classic bikes\n",
                "\n",
                "\\- Electric bikes\n",
                "\n",
                "\\- Docked bikes"
            ],
            "metadata": {
                "azdata_cell_guid": "26231d32-0351-422d-8742-0c4d462f6a1d"
            },
            "attachments": {}
        },
        {
            "cell_type": "markdown",
            "source": [
                "## Bike prefered by casual riders/annual members"
            ],
            "metadata": {
                "language": "sql",
                "azdata_cell_guid": "9760a363-4185-48a7-bc11-2b9ec2b5375b"
            },
            "attachments": {}
        },
        {
            "cell_type": "code",
            "source": [
                "WITH rideable_type_member AS \r\n",
                "(\r\n",
                "    SELECT\r\n",
                "        rideable_type,\r\n",
                "        COUNT(member_casual) AS uses_member\r\n",
                "    FROM [Cyclistic].[dbo].[twelve_months_trip]\r\n",
                "    WHERE member_casual = 'member'\r\n",
                "    GROUP BY rideable_type\r\n",
                ")\r\n",
                "SELECT\r\n",
                "    rideable_type_casual.*,\r\n",
                "    rideable_type_member.uses_member\r\n",
                "FROM\r\n",
                "(\r\n",
                "    SELECT\r\n",
                "        rideable_type,\r\n",
                "        COUNT(member_casual) AS uses_casual\r\n",
                "    FROM [Cyclistic].[dbo].[twelve_months_trip]\r\n",
                "    WHERE member_casual = 'casual'\r\n",
                "    GROUP BY rideable_type\r\n",
                ") AS rideable_type_casual\r\n",
                "FULL OUTER JOIN rideable_type_member\r\n",
                "ON rideable_type_casual.rideable_type = rideable_type_member.rideable_type\r\n",
                "ORDER BY\r\n",
                "    CASE rideable_type_casual.rideable_type\r\n",
                "        WHEN 'lundi' THEN 1\r\n",
                "        WHEN 'mardi' THEN 2\r\n",
                "        WHEN 'mercredi' THEN 3\r\n",
                "        WHEN 'jeudi' THEN 4\r\n",
                "        WHEN 'vendredi' THEN 5\r\n",
                "        WHEN 'samedi' THEN 6\r\n",
                "        WHEN 'dimanche' THEN 7\r\n",
                "    END"
            ],
            "metadata": {
                "language": "sql",
                "azdata_cell_guid": "db1a7cba-897e-4c3d-abb1-5fb2d5accb48"
            },
            "outputs": [
                {
                    "output_type": "display_data",
                    "data": {
                        "text/html": "(3 rows affected)"
                    },
                    "metadata": {}
                },
                {
                    "output_type": "display_data",
                    "data": {
                        "text/html": "Total execution time: 00:00:05.990"
                    },
                    "metadata": {}
                },
                {
                    "output_type": "execute_result",
                    "execution_count": 44,
                    "data": {
                        "application/vnd.dataresource+json": {
                            "schema": {
                                "fields": [
                                    {
                                        "name": "rideable_type"
                                    },
                                    {
                                        "name": "uses_casual"
                                    },
                                    {
                                        "name": "uses_member"
                                    }
                                ]
                            },
                            "data": [
                                {
                                    "0": "electric_bike",
                                    "1": "638295",
                                    "2": "808848"
                                },
                                {
                                    "0": "classic_bike",
                                    "1": "1020729",
                                    "2": "1845590"
                                },
                                {
                                    "0": "docked_bike",
                                    "1": "204848",
                                    "2": "NULL"
                                }
                            ]
                        },
                        "text/html": "<table><tr><th>rideable_type</th><th>uses_casual</th><th>uses_member</th></tr><tr><td>electric_bike</td><td>638295</td><td>808848</td></tr><tr><td>classic_bike</td><td>1020729</td><td>1845590</td></tr><tr><td>docked_bike</td><td>204848</td><td>NULL</td></tr></table>"
                    },
                    "metadata": {}
                }
            ],
            "execution_count": 44
        },
        {
            "cell_type": "markdown",
            "source": [
                "In a more aggregated way:"
            ],
            "metadata": {
                "language": "sql",
                "azdata_cell_guid": "cb9042f1-6cbd-493b-85c3-4e2ed51a55a3"
            },
            "attachments": {}
        },
        {
            "cell_type": "code",
            "source": [
                "WITH rideable_type_ranked AS (\r\n",
                "    SELECT\r\n",
                "        member_casual,\r\n",
                "        rideable_type,\r\n",
                "        COUNT(member_casual) AS uses\r\n",
                "    FROM [Cyclistic].[dbo].[twelve_months_trip]\r\n",
                "    GROUP BY member_casual,\r\n",
                "            rideable_type\r\n",
                "),\r\n",
                "rideable_type_for_members_ranked AS\r\n",
                "(\r\n",
                "    SELECT\r\n",
                "        ROW_NUMBER() OVER (PARTITION BY member_casual ORDER BY uses DESC) AS uses_ranked,\r\n",
                "        *\r\n",
                "    FROM\r\n",
                "        rideable_type_ranked\r\n",
                ")\r\n",
                "SELECT\r\n",
                "    member_casual,\r\n",
                "    rideable_type,\r\n",
                "    uses\r\n",
                "FROM rideable_type_for_members_ranked\r\n",
                "WHERE uses_ranked = 1\r\n",
                "ORDER BY uses DESC"
            ],
            "metadata": {
                "azdata_cell_guid": "63b39fb8-9085-4be7-b28d-54e1aa632605",
                "language": "sql"
            },
            "outputs": [
                {
                    "output_type": "display_data",
                    "data": {
                        "text/html": "(2 rows affected)"
                    },
                    "metadata": {}
                },
                {
                    "output_type": "display_data",
                    "data": {
                        "text/html": "Total execution time: 00:00:04.424"
                    },
                    "metadata": {}
                },
                {
                    "output_type": "execute_result",
                    "execution_count": 6,
                    "data": {
                        "application/vnd.dataresource+json": {
                            "schema": {
                                "fields": [
                                    {
                                        "name": "member_casual"
                                    },
                                    {
                                        "name": "rideable_type"
                                    },
                                    {
                                        "name": "uses"
                                    }
                                ]
                            },
                            "data": [
                                {
                                    "0": "member",
                                    "1": "classic_bike",
                                    "2": "1845590"
                                },
                                {
                                    "0": "casual",
                                    "1": "classic_bike",
                                    "2": "1020729"
                                }
                            ]
                        },
                        "text/html": "<table><tr><th>member_casual</th><th>rideable_type</th><th>uses</th></tr><tr><td>member</td><td>classic_bike</td><td>1845590</td></tr><tr><td>casual</td><td>classic_bike</td><td>1020729</td></tr></table>"
                    },
                    "metadata": {}
                }
            ],
            "execution_count": 6
        },
        {
            "cell_type": "markdown",
            "source": [
                "As we can see both casual riders and annual members prefer to use the classic bikes, so there is nothing to dig in. Let us take a look at how many/which stations are used for each member type"
            ],
            "metadata": {
                "language": "sql",
                "azdata_cell_guid": "e41dc548-8da0-43ad-9e74-ca32dde53a72"
            },
            "attachments": {}
        },
        {
            "cell_type": "markdown",
            "source": [
                "## Stations used\n",
                "\n",
                "## <span style=\"font-size: 14px;\">Let us start with the percentage of stations used for each member type.</span>"
            ],
            "metadata": {
                "language": "sql",
                "azdata_cell_guid": "6838f730-62f3-4dde-88a9-440279441296"
            },
            "attachments": {}
        },
        {
            "cell_type": "code",
            "source": [
                "SELECT\r\n",
                "    member_casual,\r\n",
                "    COUNT (DISTINCT start_station_name) * 100 / (\r\n",
                "        SELECT COUNT (DISTINCT start_station_name) AS stations\r\n",
                "        FROM [Cyclistic].[dbo].[twelve_months_trip]\r\n",
                "     ) AS percentage_stations_used\r\n",
                "FROM [Cyclistic].[dbo].[twelve_months_trip]\r\n",
                "GROUP BY member_casual"
            ],
            "metadata": {
                "azdata_cell_guid": "d25a28df-ac83-4e07-86d7-3209b84e8188",
                "language": "sql"
            },
            "outputs": [
                {
                    "output_type": "display_data",
                    "data": {
                        "text/html": "(2 rows affected)"
                    },
                    "metadata": {}
                },
                {
                    "output_type": "display_data",
                    "data": {
                        "text/html": "Total execution time: 00:00:25.937"
                    },
                    "metadata": {}
                },
                {
                    "output_type": "execute_result",
                    "execution_count": 45,
                    "data": {
                        "application/vnd.dataresource+json": {
                            "schema": {
                                "fields": [
                                    {
                                        "name": "member_casual"
                                    },
                                    {
                                        "name": "percentage_stations_used"
                                    }
                                ]
                            },
                            "data": [
                                {
                                    "0": "member",
                                    "1": "90"
                                },
                                {
                                    "0": "casual",
                                    "1": "95"
                                }
                            ]
                        },
                        "text/html": "<table><tr><th>member_casual</th><th>percentage_stations_used</th></tr><tr><td>member</td><td>90</td></tr><tr><td>casual</td><td>95</td></tr></table>"
                    },
                    "metadata": {}
                }
            ],
            "execution_count": 45
        },
        {
            "cell_type": "markdown",
            "source": [
                "As we can see, casual riders tend to use more stations than annual members. Now we will see which are the most used stations for each member type"
            ],
            "metadata": {
                "language": "sql",
                "azdata_cell_guid": "e5301d64-9cd3-4c07-8ac4-f8b3bc3bc06a"
            },
            "attachments": {}
        },
        {
            "cell_type": "markdown",
            "source": [
                "### Top 10 Stations : Casual Riders"
            ],
            "metadata": {
                "language": "sql",
                "azdata_cell_guid": "ac630672-5e42-4167-8f80-199e970fca54"
            },
            "attachments": {}
        },
        {
            "cell_type": "code",
            "source": [
                "SELECT TOP 10\r\n",
                "    start_station_name,\r\n",
                "    COUNT (TRIM(start_station_name)) AS uses,\r\n",
                "    CAST(start_lng AS FLOAT) AS started_lng,\r\n",
                "    CAST(start_lat AS FLOAT) AS start_lat,\r\n",
                "    CAST(end_lng AS FLOAT) AS end_lng,\r\n",
                "    CAST(end_lat AS FLOAT) AS end_lat\r\n",
                "FROM [Cyclistic].[dbo].[twelve_months_trip]\r\n",
                "WHERE member_casual = 'casual'\r\n",
                "GROUP BY start_station_name,\r\n",
                "        start_lng,\r\n",
                "        start_lat,\r\n",
                "        end_lng,\r\n",
                "        end_lat\r\n",
                "ORDER BY uses DESC"
            ],
            "metadata": {
                "azdata_cell_guid": "c22edc51-4a64-4cb4-a818-5d4763298946",
                "language": "sql"
            },
            "outputs": [
                {
                    "output_type": "display_data",
                    "data": {
                        "text/html": "(10 rows affected)"
                    },
                    "metadata": {}
                },
                {
                    "output_type": "display_data",
                    "data": {
                        "text/html": "Total execution time: 00:02:35.058"
                    },
                    "metadata": {}
                },
                {
                    "output_type": "execute_result",
                    "execution_count": 39,
                    "data": {
                        "application/vnd.dataresource+json": {
                            "schema": {
                                "fields": [
                                    {
                                        "name": "start_station_name"
                                    },
                                    {
                                        "name": "uses"
                                    },
                                    {
                                        "name": "started_lng"
                                    },
                                    {
                                        "name": "start_lat"
                                    },
                                    {
                                        "name": "end_lng"
                                    },
                                    {
                                        "name": "end_lat"
                                    }
                                ]
                            },
                            "data": [
                                {
                                    "0": "Streeter Dr & Grand Ave",
                                    "1": "11204",
                                    "2": "-87,61",
                                    "3": "41,89",
                                    "4": "-87,61",
                                    "5": "41,89"
                                },
                                {
                                    "0": "DuSable Lake Shore Dr & Monroe St",
                                    "1": "8479",
                                    "2": "-87,62",
                                    "3": "41,88",
                                    "4": "-87,62",
                                    "5": "41,88"
                                },
                                {
                                    "0": "Streeter Dr & Grand Ave",
                                    "1": "8264",
                                    "2": "-87,61",
                                    "3": "41,89",
                                    "4": "-87,62",
                                    "5": "41,88"
                                },
                                {
                                    "0": "DuSable Lake Shore Dr & Monroe St",
                                    "1": "6844",
                                    "2": "-87,62",
                                    "3": "41,88",
                                    "4": "-87,61",
                                    "5": "41,89"
                                },
                                {
                                    "0": "Millennium Park",
                                    "1": "6785",
                                    "2": "-87,62",
                                    "3": "41,88",
                                    "4": "-87,62",
                                    "5": "41,88"
                                },
                                {
                                    "0": "Michigan Ave & Oak St",
                                    "1": "5138",
                                    "2": "-87,62",
                                    "3": "41,9",
                                    "4": "-87,62",
                                    "5": "41,9"
                                },
                                {
                                    "0": "Shedd Aquarium",
                                    "1": "4521",
                                    "2": "-87,62",
                                    "3": "41,87",
                                    "4": "-87,62",
                                    "5": "41,88"
                                },
                                {
                                    "0": "Dusable Harbor",
                                    "1": "4305",
                                    "2": "-87,61",
                                    "3": "41,89",
                                    "4": "-87,61",
                                    "5": "41,89"
                                },
                                {
                                    "0": "Streeter Dr & Grand Ave",
                                    "1": "4114",
                                    "2": "-87,61",
                                    "3": "41,89",
                                    "4": "-87,62",
                                    "5": "41,89"
                                },
                                {
                                    "0": "Streeter Dr & Grand Ave",
                                    "1": "3801",
                                    "2": "-87,61",
                                    "3": "41,89",
                                    "4": "-87,62",
                                    "5": "41,9"
                                }
                            ]
                        },
                        "text/html": "<table><tr><th>start_station_name</th><th>uses</th><th>started_lng</th><th>start_lat</th><th>end_lng</th><th>end_lat</th></tr><tr><td>Streeter Dr &amp; Grand Ave</td><td>11204</td><td>-87,61</td><td>41,89</td><td>-87,61</td><td>41,89</td></tr><tr><td>DuSable Lake Shore Dr &amp; Monroe St</td><td>8479</td><td>-87,62</td><td>41,88</td><td>-87,62</td><td>41,88</td></tr><tr><td>Streeter Dr &amp; Grand Ave</td><td>8264</td><td>-87,61</td><td>41,89</td><td>-87,62</td><td>41,88</td></tr><tr><td>DuSable Lake Shore Dr &amp; Monroe St</td><td>6844</td><td>-87,62</td><td>41,88</td><td>-87,61</td><td>41,89</td></tr><tr><td>Millennium Park</td><td>6785</td><td>-87,62</td><td>41,88</td><td>-87,62</td><td>41,88</td></tr><tr><td>Michigan Ave &amp; Oak St</td><td>5138</td><td>-87,62</td><td>41,9</td><td>-87,62</td><td>41,9</td></tr><tr><td>Shedd Aquarium</td><td>4521</td><td>-87,62</td><td>41,87</td><td>-87,62</td><td>41,88</td></tr><tr><td>Dusable Harbor</td><td>4305</td><td>-87,61</td><td>41,89</td><td>-87,61</td><td>41,89</td></tr><tr><td>Streeter Dr &amp; Grand Ave</td><td>4114</td><td>-87,61</td><td>41,89</td><td>-87,62</td><td>41,89</td></tr><tr><td>Streeter Dr &amp; Grand Ave</td><td>3801</td><td>-87,61</td><td>41,89</td><td>-87,62</td><td>41,9</td></tr></table>"
                    },
                    "metadata": {}
                }
            ],
            "execution_count": 39
        },
        {
            "cell_type": "markdown",
            "source": [
                "### Top 10 Stations: Annual Members"
            ],
            "metadata": {
                "language": "sql",
                "azdata_cell_guid": "cf940dfa-78d9-44fe-9112-726aa9835eb1"
            },
            "attachments": {}
        },
        {
            "cell_type": "code",
            "source": [
                "SELECT TOP 10\r\n",
                "    start_station_name,\r\n",
                "    COUNT (TRIM(start_station_name)) AS uses,\r\n",
                "    CAST(start_lng AS FLOAT) AS started_lng,\r\n",
                "    CAST(start_lat AS FLOAT) AS start_lat,\r\n",
                "    CAST(end_lng AS FLOAT) AS end_lng,\r\n",
                "    CAST(end_lat AS FLOAT) AS end_lat\r\n",
                "FROM [Cyclistic].[dbo].[twelve_months_trip]\r\n",
                "WHERE member_casual = 'member'\r\n",
                "GROUP BY start_station_name,\r\n",
                "        start_lng,\r\n",
                "        start_lat,\r\n",
                "        end_lng,\r\n",
                "        end_lat\r\n",
                "ORDER BY uses DESC"
            ],
            "metadata": {
                "azdata_cell_guid": "0bd586af-56e0-468f-8cb0-b78f791b5aa9",
                "language": "sql"
            },
            "outputs": [
                {
                    "output_type": "display_data",
                    "data": {
                        "text/html": "(10 rows affected)"
                    },
                    "metadata": {}
                },
                {
                    "output_type": "display_data",
                    "data": {
                        "text/html": "Total execution time: 00:02:26.486"
                    },
                    "metadata": {}
                },
                {
                    "output_type": "execute_result",
                    "execution_count": 40,
                    "data": {
                        "application/vnd.dataresource+json": {
                            "schema": {
                                "fields": [
                                    {
                                        "name": "start_station_name"
                                    },
                                    {
                                        "name": "uses"
                                    },
                                    {
                                        "name": "started_lng"
                                    },
                                    {
                                        "name": "start_lat"
                                    },
                                    {
                                        "name": "end_lng"
                                    },
                                    {
                                        "name": "end_lat"
                                    }
                                ]
                            },
                            "data": [
                                {
                                    "0": "Ellis Ave & 60th St",
                                    "1": "13640",
                                    "2": "-87,6",
                                    "3": "41,79",
                                    "4": "-87,6",
                                    "5": "41,79"
                                },
                                {
                                    "0": "University Ave & 57th St",
                                    "1": "7920",
                                    "2": "-87,6",
                                    "3": "41,79",
                                    "4": "-87,6",
                                    "5": "41,79"
                                },
                                {
                                    "0": "Ellis Ave & 55th St",
                                    "1": "7137",
                                    "2": "-87,6",
                                    "3": "41,79",
                                    "4": "-87,6",
                                    "5": "41,79"
                                },
                                {
                                    "0": "Loomis St & Lexington St",
                                    "1": "5765",
                                    "2": "-87,66",
                                    "3": "41,87",
                                    "4": "-87,65",
                                    "5": "41,87"
                                },
                                {
                                    "0": "Kimbark Ave & 53rd St",
                                    "1": "4453",
                                    "2": "-87,59",
                                    "3": "41,8",
                                    "4": "-87,6",
                                    "5": "41,79"
                                },
                                {
                                    "0": "Kingsbury St & Kinzie St",
                                    "1": "3936",
                                    "2": "-87,64",
                                    "3": "41,89",
                                    "4": "-87,64",
                                    "5": "41,88"
                                },
                                {
                                    "0": "University Ave & 57th St",
                                    "1": "3648",
                                    "2": "-87,6",
                                    "3": "41,79",
                                    "4": "-87,59",
                                    "5": "41,8"
                                },
                                {
                                    "0": "Ellis Ave & 58th St",
                                    "1": "3510",
                                    "2": "-87,6",
                                    "3": "41,79",
                                    "4": "-87,6",
                                    "5": "41,79"
                                },
                                {
                                    "0": "Halsted St & Polk St",
                                    "1": "3478",
                                    "2": "-87,65",
                                    "3": "41,87",
                                    "4": "-87,66",
                                    "5": "41,87"
                                },
                                {
                                    "0": "Morgan St & Polk St",
                                    "1": "3387",
                                    "2": "-87,65",
                                    "3": "41,87",
                                    "4": "-87,66",
                                    "5": "41,87"
                                }
                            ]
                        },
                        "text/html": "<table><tr><th>start_station_name</th><th>uses</th><th>started_lng</th><th>start_lat</th><th>end_lng</th><th>end_lat</th></tr><tr><td>Ellis Ave &amp; 60th St</td><td>13640</td><td>-87,6</td><td>41,79</td><td>-87,6</td><td>41,79</td></tr><tr><td>University Ave &amp; 57th St</td><td>7920</td><td>-87,6</td><td>41,79</td><td>-87,6</td><td>41,79</td></tr><tr><td>Ellis Ave &amp; 55th St</td><td>7137</td><td>-87,6</td><td>41,79</td><td>-87,6</td><td>41,79</td></tr><tr><td>Loomis St &amp; Lexington St</td><td>5765</td><td>-87,66</td><td>41,87</td><td>-87,65</td><td>41,87</td></tr><tr><td>Kimbark Ave &amp; 53rd St</td><td>4453</td><td>-87,59</td><td>41,8</td><td>-87,6</td><td>41,79</td></tr><tr><td>Kingsbury St &amp; Kinzie St</td><td>3936</td><td>-87,64</td><td>41,89</td><td>-87,64</td><td>41,88</td></tr><tr><td>University Ave &amp; 57th St</td><td>3648</td><td>-87,6</td><td>41,79</td><td>-87,59</td><td>41,8</td></tr><tr><td>Ellis Ave &amp; 58th St</td><td>3510</td><td>-87,6</td><td>41,79</td><td>-87,6</td><td>41,79</td></tr><tr><td>Halsted St &amp; Polk St</td><td>3478</td><td>-87,65</td><td>41,87</td><td>-87,66</td><td>41,87</td></tr><tr><td>Morgan St &amp; Polk St</td><td>3387</td><td>-87,65</td><td>41,87</td><td>-87,66</td><td>41,87</td></tr></table>"
                    },
                    "metadata": {}
                }
            ],
            "execution_count": 40
        },
        {
            "cell_type": "markdown",
            "source": [
                "Casual riders and annual members seem to not use the same stations (if we take a look at the 10 most used stations). We will see if can exploit those results."
            ],
            "metadata": {
                "language": "sql",
                "azdata_cell_guid": "d28169ff-1d53-4eba-b8f4-2bbd9bae31f1"
            },
            "attachments": {}
        },
        {
            "cell_type": "markdown",
            "source": [
                "## Conclusion : usefull insights\n",
                "\n",
                "\\- Casual riders tend to have trips with the highest average duration trip.\n",
                "\n",
                "\\- Casual riders use the bike-share service more during the weekend than annual members, but the other days, it is the contrary.\n",
                "\n",
                "\\- Casual riders use more stations than annual members.\n",
                "\n",
                "\\- Casual riders and annual members seem to not use the same stations (at least the top 10)."
            ],
            "metadata": {
                "language": "sql",
                "azdata_cell_guid": "5d057157-8bfd-4deb-aeca-fb3bcd565940"
            },
            "attachments": {}
        }
    ]
}
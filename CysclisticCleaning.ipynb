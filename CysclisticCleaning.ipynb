{
    "metadata": {
        "kernelspec": {
            "name": "SQL",
            "display_name": "SQL",
            "language": "sql"
        },
        "language_info": {
            "name": "sql",
            "version": ""
        }
    },
    "nbformat_minor": 2,
    "nbformat": 4,
    "cells": [
        {
            "cell_type": "markdown",
            "source": [
                "# Data cleaning and assembling\n",
                "\n",
                "## Assembling of the 12 datasets in a temporary table\n",
                "\n",
                "_Each dataset contains monthly ride data. Starting 2021/09, ending 2022/08_"
            ],
            "metadata": {
                "azdata_cell_guid": "157e3b60-740a-4335-a666-6ea4dd752bbd"
            },
            "attachments": {}
        },
        {
            "cell_type": "code",
            "source": [
                "SELECT * INTO #temporary_table_1\r\n",
                "FROM (\r\n",
                "    SELECT *\r\n",
                "    FROM [Cyclistic].[dbo].[202109-divvy-tripdata]\r\n",
                "    UNION\r\n",
                "    SELECT *\r\n",
                "    FROM [Cyclistic].[dbo].[202110-divvy-tripdata]\r\n",
                "    UNION\r\n",
                "    SELECT *\r\n",
                "    FROM [Cyclistic].[dbo].[202111-divvy-tripdata]\r\n",
                "    UNION\r\n",
                "    SELECT *\r\n",
                "    FROM [Cyclistic].[dbo].[202112-divvy-tripdata]\r\n",
                "    UNION\r\n",
                "    SELECT *\r\n",
                "    FROM [Cyclistic].[dbo].[202201-divvy-tripdata]\r\n",
                "    UNION\r\n",
                "    SELECT *\r\n",
                "    FROM [Cyclistic].[dbo].[202202-divvy-tripdata]\r\n",
                "    UNION\r\n",
                "    SELECT *\r\n",
                "    FROM [Cyclistic].[dbo].[202203-divvy-tripdata]\r\n",
                "    UNION\r\n",
                "    SELECT *\r\n",
                "    FROM [Cyclistic].[dbo].[202204-divvy-tripdata]\r\n",
                "    UNION\r\n",
                "    SELECT *\r\n",
                "    FROM [Cyclistic].[dbo].[202205-divvy-tripdata]\r\n",
                "    UNION\r\n",
                "    SELECT *\r\n",
                "    FROM [Cyclistic].[dbo].[202206-divvy-tripdata]\r\n",
                "    UNION\r\n",
                "    SELECT *\r\n",
                "    FROM [Cyclistic].[dbo].[202207-divvy-tripdata]\r\n",
                "    UNION\r\n",
                "    SELECT *\r\n",
                "    FROM [Cyclistic].[dbo].[202208-divvy-tripdata]\r\n",
                ") AS primary_table"
            ],
            "metadata": {
                "azdata_cell_guid": "bd8c9331-7d95-491b-892c-07ae6d286021",
                "language": "sql"
            },
            "outputs": [],
            "execution_count": null
        },
        {
            "cell_type": "markdown",
            "source": [
                "## Deleting the rows where the trip duration is inferior or equal to 0"
            ],
            "metadata": {
                "azdata_cell_guid": "b1efe887-aab0-486e-82a5-e2b893596407"
            },
            "attachments": {}
        },
        {
            "cell_type": "code",
            "source": [
                "DELETE\r\n",
                "FROM #temporary_table_1\r\n",
                "WHERE DATEDIFF(minute, [started_at], [ended_at]) IN (\r\n",
                "    SELECT\r\n",
                "        DATEDIFF(minute, [started_at], [ended_at])\r\n",
                "    FROM #temporary_table_1\r\n",
                "    GROUP BY DATEDIFF(minute, [started_at], [ended_at])\r\n",
                "    HAVING DATEDIFF(minute, [started_at], [ended_at]) <= 0\r\n",
                ")"
            ],
            "metadata": {
                "azdata_cell_guid": "b663060a-1e9d-406a-8d49-8515a2886847",
                "language": "sql",
                "tags": []
            },
            "outputs": [],
            "execution_count": null
        },
        {
            "cell_type": "markdown",
            "source": [
                "## Deleting the ride\\_id column (useless in our case)"
            ],
            "metadata": {
                "azdata_cell_guid": "5f7e4b62-1c68-4a95-a635-50014be96f87"
            },
            "attachments": {}
        },
        {
            "cell_type": "code",
            "source": [
                "ALTER TABLE #temporary_table_1\r\n",
                "DROP COLUMN ride_id,\r\n",
                "    start_station_id,\r\n",
                "    end_station_id"
            ],
            "metadata": {
                "azdata_cell_guid": "5b35f3e5-72cb-4e99-ba83-98ff12b5ae92",
                "language": "sql"
            },
            "outputs": [],
            "execution_count": null
        },
        {
            "cell_type": "markdown",
            "source": [
                "## Deleting the rows containing NULL value"
            ],
            "metadata": {
                "azdata_cell_guid": "36799489-cb97-4b2a-90ee-1cdcc0d9cea6"
            },
            "attachments": {}
        },
        {
            "cell_type": "code",
            "source": [
                "DELETE\r\n",
                "FROM #temporary_table_1\r\n",
                "WHERE\r\n",
                "    rideable_type IS NULL OR\r\n",
                "    started_at IS NULL OR\r\n",
                "    ended_at IS NULL OR\r\n",
                "    start_station_name IS NULL OR\r\n",
                "    end_station_name IS NULL OR\r\n",
                "    end_station_id IS NULL OR\r\n",
                "    start_station_id IS NULL OR\r\n",
                "    start_lat IS NULL OR\r\n",
                "    start_lng IS NULL OR\r\n",
                "    end_lat IS NULL OR\r\n",
                "    end_lng IS NULL OR\r\n",
                "    member_casual IS NULL"
            ],
            "metadata": {
                "azdata_cell_guid": "ff919965-cc7c-4e4a-a320-40a361e3d2b9",
                "language": "sql"
            },
            "outputs": [],
            "execution_count": null
        },
        {
            "cell_type": "markdown",
            "source": [
                "## TRIM the columns"
            ],
            "metadata": {
                "azdata_cell_guid": "813513fb-7f9a-48b8-81f0-faf90d84e0bb"
            },
            "attachments": {}
        },
        {
            "cell_type": "code",
            "source": [
                "UPDATE #temporary_table_1\r\n",
                "SET\r\n",
                "    rideable_type = TRIM(rideable_type),\r\n",
                "    start_station_name = TRIM(start_station_name),\r\n",
                "    start_station_id = TRIM(start_station_id),\r\n",
                "    end_station_name = TRIM(end_station_name),\r\n",
                "    end_station_id = TRIM(end_station_id),\r\n",
                "    start_lat = TRIM(start_lat),\r\n",
                "    start_lng = TRIM(start_lng),\r\n",
                "    end_lat = TRIM(end_lat),\r\n",
                "    end_lng = TRIM(end_lng),\r\n",
                "    member_casual = TRIM(member_casual)\r\n",
                "GO"
            ],
            "metadata": {
                "azdata_cell_guid": "0bdf496a-30c5-45e3-826b-4d42eb193c7c",
                "language": "sql"
            },
            "outputs": [],
            "execution_count": null
        },
        {
            "cell_type": "markdown",
            "source": [
                "## Deleting a few others columns"
            ],
            "metadata": {
                "azdata_cell_guid": "1b86752f-6fc9-45b9-a4f8-37339ee47693"
            },
            "attachments": {}
        },
        {
            "cell_type": "code",
            "source": [
                "ALTER TABLE #temporary_table_1\r\n",
                "DROP COLUMN start_station_id,\r\n",
                "    end_station_id"
            ],
            "metadata": {
                "azdata_cell_guid": "d8d03842-2cb8-455f-8325-f36194caf573",
                "language": "sql"
            },
            "outputs": [],
            "execution_count": null
        },
        {
            "cell_type": "markdown",
            "source": [
                "## Creating the final table for the analysis"
            ],
            "metadata": {
                "azdata_cell_guid": "5925ccfa-b4ac-4dc8-b244-99bfb4dd14ce"
            },
            "attachments": {}
        },
        {
            "cell_type": "code",
            "source": [
                "SELECT *\r\n",
                "INTO twelve_months_trip\r\n",
                "FROM #temporary_table_1"
            ],
            "metadata": {
                "azdata_cell_guid": "066d7920-5055-4313-acb1-7564123f2044",
                "language": "sql"
            },
            "outputs": [],
            "execution_count": null
        }
    ]
}